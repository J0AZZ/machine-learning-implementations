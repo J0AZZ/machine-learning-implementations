{
  "nbformat": 4,
  "nbformat_minor": 0,
  "metadata": {
    "colab": {
      "name": "KNearestNeighbours.ipynb",
      "provenance": [],
      "authorship_tag": "ABX9TyNdv8G0ZajIiWzJ2FLJIooE",
      "include_colab_link": true
    },
    "kernelspec": {
      "name": "python3",
      "display_name": "Python 3"
    }
  },
  "cells": [
    {
      "cell_type": "markdown",
      "metadata": {
        "id": "view-in-github",
        "colab_type": "text"
      },
      "source": [
        "<a href=\"https://colab.research.google.com/github/J0AZZ/machine-learning-implementations/blob/master/KNearestNeighbours.ipynb\" target=\"_parent\"><img src=\"https://colab.research.google.com/assets/colab-badge.svg\" alt=\"Open In Colab\"/></a>"
      ]
    },
    {
      "cell_type": "markdown",
      "metadata": {
        "id": "PKLvGsu5ihYa"
      },
      "source": [
        "## K Nearest Neighbours\r\n",
        "\r\n",
        "Teoria, Implementação e Aplicações.\r\n",
        "\r\n",
        "Autor: Joás de Brito (J0AZZ on GitHub)\r\n"
      ]
    },
    {
      "cell_type": "code",
      "metadata": {
        "id": "JgrTh6uzibF5"
      },
      "source": [
        ""
      ],
      "execution_count": null,
      "outputs": []
    }
  ]
}