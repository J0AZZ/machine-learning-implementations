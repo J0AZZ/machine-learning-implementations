{
  "nbformat": 4,
  "nbformat_minor": 0,
  "metadata": {
    "colab": {
      "name": "KNearestNeighbours.ipynb",
      "provenance": [],
      "authorship_tag": "ABX9TyPHgbPQTwxQmR2OhXUo2/Hw",
      "include_colab_link": true
    },
    "kernelspec": {
      "name": "python3",
      "display_name": "Python 3"
    }
  },
  "cells": [
    {
      "cell_type": "markdown",
      "metadata": {
        "id": "view-in-github",
        "colab_type": "text"
      },
      "source": [
        "<a href=\"https://colab.research.google.com/github/J0AZZ/machine-learning-implementations/blob/master/KNearestNeighbours.ipynb\" target=\"_parent\"><img src=\"https://colab.research.google.com/assets/colab-badge.svg\" alt=\"Open In Colab\"/></a>"
      ]
    },
    {
      "cell_type": "markdown",
      "metadata": {
        "id": "PKLvGsu5ihYa"
      },
      "source": [
        "# K Nearest Neighbours\r\n",
        "\r\n",
        "Teoria, Implementação e Aplicações.\r\n",
        "\r\n",
        "Autor: Joás de Brito (J0AZZ on GitHub)\r\n"
      ]
    },
    {
      "cell_type": "markdown",
      "metadata": {
        "id": "emmevwrUksie"
      },
      "source": [
        "### Python"
      ]
    },
    {
      "cell_type": "code",
      "metadata": {
        "id": "JgrTh6uzibF5"
      },
      "source": [
        "from statistics import mode"
      ],
      "execution_count": null,
      "outputs": []
    },
    {
      "cell_type": "code",
      "metadata": {
        "id": "GBAtRbmKkUeb"
      },
      "source": [
        "## Manhattan Distance (L1 Norm)\r\n",
        "def manhattan_distance(p1, p2):\r\n",
        "    distance = 0\r\n",
        "    for i in range(len(p1)):\r\n",
        "        distance += abs(p1[i] - p2[i])\r\n",
        "    return distance"
      ],
      "execution_count": null,
      "outputs": []
    },
    {
      "cell_type": "code",
      "metadata": {
        "id": "wEuGHp92kcb2"
      },
      "source": [
        "# Measures the Manhattan Distance from point to all points in plane \r\n",
        "# and returns the k points with smallest distances to point.\r\n",
        "# if predict is set to True, returns the label predicted by the KNN\r\n",
        "def knn(point, observations, k, predict=False):\r\n",
        "    distances = list()\r\n",
        "\r\n",
        "    # get the distances from p to all other points\r\n",
        "    for p in observations:\r\n",
        "        distances.append([p, manhattan_distance(point.coordinates, p.coordinates)])\r\n",
        "\r\n",
        "    # get the k least distances\r\n",
        "    index = distances.argsort()[:k]\r\n",
        "\r\n",
        "    # returns the k nearest neighbours\r\n",
        "    knn = list()\r\n",
        "    for i in index:\r\n",
        "        knn.append(observations[i])\r\n",
        "    if(not predict):\r\n",
        "        return knn\r\n",
        "    \r\n",
        "    # returns the predicted label\r\n",
        "    else:\r\n",
        "        labels = list()\r\n",
        "        for p in knn:\r\n",
        "            labels.append(p.label)\r\n",
        "        return mode(labels)"
      ],
      "execution_count": null,
      "outputs": []
    }
  ]
}