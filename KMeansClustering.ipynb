{
  "nbformat": 4,
  "nbformat_minor": 0,
  "metadata": {
    "colab": {
      "name": "KMeansClustering.ipynb",
      "provenance": [],
      "authorship_tag": "ABX9TyOoIOVpTmtG/brLz8xnuoeb",
      "include_colab_link": true
    },
    "kernelspec": {
      "name": "python3",
      "display_name": "Python 3"
    }
  },
  "cells": [
    {
      "cell_type": "markdown",
      "metadata": {
        "id": "view-in-github",
        "colab_type": "text"
      },
      "source": [
        "<a href=\"https://colab.research.google.com/github/J0AZZ/machine-learning-implementations/blob/master/KMeansClustering.ipynb\" target=\"_parent\"><img src=\"https://colab.research.google.com/assets/colab-badge.svg\" alt=\"Open In Colab\"/></a>"
      ]
    },
    {
      "cell_type": "markdown",
      "metadata": {
        "id": "grHu5WuRMn16"
      },
      "source": [
        "# K Means Clustering\r\n",
        "\r\n",
        "Teoria, Implementação e Aplicações.\r\n",
        "\r\n",
        "Autor: Joás de Brito (J0AZZ on GitHub)\r\n"
      ]
    },
    {
      "cell_type": "markdown",
      "metadata": {
        "id": "Xiedd5GXMsHs"
      },
      "source": [
        "O algoritmo K Means Clustering apresenta-se como uma técnica versátil e razoavelmente eficiente em tarefas de classificação. É fundamentado na criação de um \"mapa\" de grupos (ou clusters) onde um ponto é classificado de acordo com o grupo a que pertence. O mapa de grupos é desenhado em um processo iterativo que começa com a imputação de K centróides, podendo ser pontos existentes ou determinados pelo desenvolvedor; em seguida, todos os pontos são associados ao centróide mais próximo, o que cria um mapa de grupos inicial. Novos centróides são calculados, a partir dos grupos já discriminados, e o processo de imputação é repetido até que haja convergência na forma do mapa.\r\n",
        "\r\n",
        "Aprendizado Não-Supervisionado; Classificação;\r\n"
      ]
    },
    {
      "cell_type": "code",
      "metadata": {
        "id": "lBHgZWIrMjnf"
      },
      "source": [
        "import random"
      ],
      "execution_count": null,
      "outputs": []
    },
    {
      "cell_type": "code",
      "metadata": {
        "id": "AuIY3zeVO85f"
      },
      "source": [
        "# Manhattan Distance (L1 Norm)\r\n",
        "def manhattan_distance(p1, p2):\r\n",
        "    d = list()\r\n",
        "    for i in range(len(p1)):\r\n",
        "        d.append(abs(p1[i]-p2[i]))\r\n",
        "    return d"
      ],
      "execution_count": null,
      "outputs": []
    },
    {
      "cell_type": "code",
      "metadata": {
        "id": "oJL7ow44O_ZC"
      },
      "source": [
        "# Averages the vectors' coordinates to get the centroid\r\n",
        "def get_centroid(vectors):\r\n",
        "    centroid = list()\r\n",
        "    for c in range(len(vectors[0])):\r\n",
        "        coord = 0\r\n",
        "        for v in vectors:\r\n",
        "            coord += v[c]\r\n",
        "        centroid.append(coord/len(vectors))\r\n",
        "    return centroid"
      ],
      "execution_count": null,
      "outputs": []
    },
    {
      "cell_type": "code",
      "metadata": {
        "id": "jn4K7ydU5mWo"
      },
      "source": [
        "# Basic convergence check, returns true if the difference between values is small\r\n",
        "def has_converged(last, current, threshold=0.02):\r\n",
        "  for i in range(len(last)):\r\n",
        "     if ((last[i]-current[i])/last[i] > threshold):\r\n",
        "       return False\r\n",
        "  return True"
      ],
      "execution_count": null,
      "outputs": []
    },
    {
      "cell_type": "code",
      "metadata": {
        "id": "fMoIjns0PFyD"
      },
      "source": [
        "# Returns k clusters containing the same vectors passed as argument\r\n",
        "def kmc(vectors, k):\r\n",
        "    # k randomly selected vectors, to be used in the first iteration\r\n",
        "    centroids = random.sample(vectors, k)\r\n",
        "    \r\n",
        "    # list to hold k clusters\r\n",
        "    clusters = list()\r\n",
        "    for n in range(k):\r\n",
        "        clusters.append(list())\r\n",
        "    \r\n",
        "    converged = False\r\n",
        "    last = list()\r\n",
        "    # repeat until convergence\r\n",
        "    while (not converged):\r\n",
        "        # for each vector determine to which centroid it is closer\r\n",
        "        distance_to_centroid_k = list()\r\n",
        "        for v in vectors:\r\n",
        "            distance_to_centroid_k = list()\r\n",
        "            for k in centroids:\r\n",
        "                distance_to_centroid_k.append(manhattan_distance(k, v))\r\n",
        "                \r\n",
        "            # index of the centroid k closest to vector v\r\n",
        "            K = distance_to_centroid_k.argsort()[:1]\r\n",
        "            index = distance_to_centroid_k.index(K)\r\n",
        "            \r\n",
        "            # include v to the apropriate cluster\r\n",
        "            clusters[index].append(v)\r\n",
        "    \r\n",
        "        # calculate new centroids\r\n",
        "        centroids = list()\r\n",
        "        for cluster in clusters:\r\n",
        "            centroids.append(get_centroid(cluster))\r\n",
        "        \r\n",
        "        # checks for convergence (true if ({last-current}/last) <= 0.025)\r\n",
        "        converged = has_converged(last, centroids)\r\n",
        "\r\n",
        "        last = centroids\r\n",
        "    \r\n",
        "    return clusters"
      ],
      "execution_count": null,
      "outputs": []
    }
  ]
}