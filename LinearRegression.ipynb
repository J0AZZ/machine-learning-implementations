{
  "nbformat": 4,
  "nbformat_minor": 0,
  "metadata": {
    "colab": {
      "name": "LinearRegression.ipynb",
      "provenance": [],
      "authorship_tag": "ABX9TyNsD5CTE9Od1SSKaqeIILol",
      "include_colab_link": true
    },
    "kernelspec": {
      "name": "python3",
      "display_name": "Python 3"
    }
  },
  "cells": [
    {
      "cell_type": "markdown",
      "metadata": {
        "id": "view-in-github",
        "colab_type": "text"
      },
      "source": [
        "<a href=\"https://colab.research.google.com/github/J0AZZ/machine-learning-implementations/blob/master/LinearRegression.ipynb\" target=\"_parent\"><img src=\"https://colab.research.google.com/assets/colab-badge.svg\" alt=\"Open In Colab\"/></a>"
      ]
    },
    {
      "cell_type": "markdown",
      "metadata": {
        "id": "8rZMaFqiahod"
      },
      "source": [
        "# Linear Regression"
      ]
    },
    {
      "cell_type": "markdown",
      "metadata": {
        "id": "yyY_bn_Hbm0S"
      },
      "source": [
        "Teoria, Implementação e Aplicações.\r\n",
        "\r\n",
        "Autor: Joás de Brito (J0AZZ on GitHub)\r\n",
        "\r\n",
        "Métodos de regressão funcionam sob a premissa de que os valores-alvo podem ser expressos como uma combinação linear das variáveis de entrada, isto é, deve existir uma relação matemática entre estes valores e a regressão linear procura os coeficientes desta relação matemática.\r\n",
        "\r\n",
        "Aprendizado Supervisionado; Regressão/Classificação;"
      ]
    },
    {
      "cell_type": "code",
      "metadata": {
        "id": "f-UOpcEZY8Ut"
      },
      "source": [
        "import numpy as np\r\n",
        "# para operações matriciais"
      ],
      "execution_count": null,
      "outputs": []
    },
    {
      "cell_type": "code",
      "metadata": {
        "id": "AhDQDOW3cr-q"
      },
      "source": [
        "# solução analítica sem regularização\r\n",
        "\r\n",
        "# X: numpy.matrix\r\n",
        "# y: numpy.matrix\r\n",
        "def linear_regression(X, y):\r\n",
        "  return np.linalg.inv((X.T).dot(X)).dot(X.T).dot(y)"
      ],
      "execution_count": null,
      "outputs": []
    }
  ]
}